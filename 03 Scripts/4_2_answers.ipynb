{
 "cells": [
  {
   "cell_type": "markdown",
   "id": "baa27589",
   "metadata": {},
   "source": [
    "Ez nem kód mert nincs előtte In, és ezt az M betűvel csináltam"
   ]
  },
  {
   "cell_type": "markdown",
   "id": "c337fdd1",
   "metadata": {},
   "source": [
    "# 01. Importing libraries"
   ]
  },
  {
   "cell_type": "code",
   "execution_count": 1,
   "id": "84f05d60",
   "metadata": {},
   "outputs": [],
   "source": [
    "# import libraries\n",
    "import pandas as pd\n",
    "import numpy as np\n",
    "import os"
   ]
  },
  {
   "cell_type": "code",
   "execution_count": 2,
   "id": "0e7d4547",
   "metadata": {},
   "outputs": [],
   "source": [
    "x=2"
   ]
  },
  {
   "cell_type": "code",
   "execution_count": 3,
   "id": "7c02ba0c",
   "metadata": {},
   "outputs": [
    {
     "data": {
      "text/plain": [
       "2"
      ]
     },
     "execution_count": 3,
     "metadata": {},
     "output_type": "execute_result"
    }
   ],
   "source": [
    "x"
   ]
  },
  {
   "cell_type": "code",
   "execution_count": 4,
   "id": "a216a28c",
   "metadata": {},
   "outputs": [
    {
     "name": "stdout",
     "output_type": "stream",
     "text": [
      "2\n"
     ]
    }
   ],
   "source": [
    "print (x)"
   ]
  },
  {
   "cell_type": "code",
   "execution_count": 5,
   "id": "9f54d1a8",
   "metadata": {},
   "outputs": [
    {
     "data": {
      "text/plain": [
       "int"
      ]
     },
     "execution_count": 5,
     "metadata": {},
     "output_type": "execute_result"
    }
   ],
   "source": [
    "type (x)"
   ]
  },
  {
   "cell_type": "markdown",
   "id": "afa45f05",
   "metadata": {},
   "source": [
    "## Python data types"
   ]
  },
  {
   "cell_type": "code",
   "execution_count": null,
   "id": "8270620e",
   "metadata": {},
   "outputs": [],
   "source": []
  },
  {
   "cell_type": "code",
   "execution_count": 7,
   "id": "921fa568",
   "metadata": {},
   "outputs": [],
   "source": [
    "y=20"
   ]
  },
  {
   "cell_type": "code",
   "execution_count": 8,
   "id": "5c5343fa",
   "metadata": {},
   "outputs": [],
   "source": [
    "z=80"
   ]
  },
  {
   "cell_type": "code",
   "execution_count": 9,
   "id": "b7b5855d",
   "metadata": {},
   "outputs": [
    {
     "data": {
      "text/plain": [
       "100"
      ]
     },
     "execution_count": 9,
     "metadata": {},
     "output_type": "execute_result"
    }
   ],
   "source": [
    "y+z"
   ]
  },
  {
   "cell_type": "code",
   "execution_count": 10,
   "id": "d6937052",
   "metadata": {},
   "outputs": [
    {
     "data": {
      "text/plain": [
       "100"
      ]
     },
     "execution_count": 10,
     "metadata": {},
     "output_type": "execute_result"
    }
   ],
   "source": [
    "z+z-y-y-y"
   ]
  },
  {
   "cell_type": "code",
   "execution_count": 11,
   "id": "b5885062",
   "metadata": {},
   "outputs": [
    {
     "data": {
      "text/plain": [
       "100"
      ]
     },
     "execution_count": 11,
     "metadata": {},
     "output_type": "execute_result"
    }
   ],
   "source": [
    "z+y+y-y"
   ]
  },
  {
   "cell_type": "code",
   "execution_count": 12,
   "id": "6f3407e4",
   "metadata": {},
   "outputs": [],
   "source": [
    "a=3.14"
   ]
  },
  {
   "cell_type": "code",
   "execution_count": 13,
   "id": "fdd3bafb",
   "metadata": {},
   "outputs": [],
   "source": [
    "b=5.3678"
   ]
  },
  {
   "cell_type": "code",
   "execution_count": 14,
   "id": "17ab6baa",
   "metadata": {},
   "outputs": [
    {
     "data": {
      "text/plain": [
       "0.5849696337419428"
      ]
     },
     "execution_count": 14,
     "metadata": {},
     "output_type": "execute_result"
    }
   ],
   "source": [
    "a/b"
   ]
  },
  {
   "cell_type": "code",
   "execution_count": 15,
   "id": "b1995254",
   "metadata": {},
   "outputs": [],
   "source": [
    "c='a'"
   ]
  },
  {
   "cell_type": "code",
   "execution_count": 16,
   "id": "a7d2ef43",
   "metadata": {},
   "outputs": [],
   "source": [
    "d='n'"
   ]
  },
  {
   "cell_type": "code",
   "execution_count": 17,
   "id": "7b17d6fc",
   "metadata": {},
   "outputs": [
    {
     "data": {
      "text/plain": [
       "'anna'"
      ]
     },
     "execution_count": 17,
     "metadata": {},
     "output_type": "execute_result"
    }
   ],
   "source": [
    "c+d+d+c"
   ]
  },
  {
   "cell_type": "code",
   "execution_count": 18,
   "id": "0f670c86",
   "metadata": {},
   "outputs": [],
   "source": [
    "e='Anna '"
   ]
  },
  {
   "cell_type": "code",
   "execution_count": 20,
   "id": "50f282b0",
   "metadata": {},
   "outputs": [],
   "source": [
    "f='szép, '"
   ]
  },
  {
   "cell_type": "code",
   "execution_count": 23,
   "id": "6538974a",
   "metadata": {},
   "outputs": [],
   "source": [
    "g='okos '"
   ]
  },
  {
   "cell_type": "code",
   "execution_count": 22,
   "id": "74b7e11e",
   "metadata": {},
   "outputs": [
    {
     "data": {
      "text/plain": [
       "'Anna szép, okos'"
      ]
     },
     "execution_count": 22,
     "metadata": {},
     "output_type": "execute_result"
    }
   ],
   "source": [
    "e+f+g"
   ]
  },
  {
   "cell_type": "code",
   "execution_count": 25,
   "id": "863f077d",
   "metadata": {},
   "outputs": [
    {
     "data": {
      "text/plain": [
       "'szép, okos Anna szép, okos Anna szép, okos Anna '"
      ]
     },
     "execution_count": 25,
     "metadata": {},
     "output_type": "execute_result"
    }
   ],
   "source": [
    "3*(f+g+e)"
   ]
  },
  {
   "cell_type": "code",
   "execution_count": null,
   "id": "40738476",
   "metadata": {},
   "outputs": [],
   "source": []
  },
  {
   "cell_type": "code",
   "execution_count": null,
   "id": "56afe45a",
   "metadata": {},
   "outputs": [],
   "source": []
  },
  {
   "cell_type": "markdown",
   "id": "c2b726ce",
   "metadata": {},
   "source": []
  },
  {
   "cell_type": "code",
   "execution_count": null,
   "id": "1064ca74",
   "metadata": {},
   "outputs": [],
   "source": []
  },
  {
   "cell_type": "code",
   "execution_count": null,
   "id": "2125a2c4",
   "metadata": {},
   "outputs": [],
   "source": []
  },
  {
   "cell_type": "code",
   "execution_count": null,
   "id": "0363b6e9",
   "metadata": {},
   "outputs": [],
   "source": []
  }
 ],
 "metadata": {
  "kernelspec": {
   "display_name": "Python 3 (ipykernel)",
   "language": "python",
   "name": "python3"
  },
  "language_info": {
   "codemirror_mode": {
    "name": "ipython",
    "version": 3
   },
   "file_extension": ".py",
   "mimetype": "text/x-python",
   "name": "python",
   "nbconvert_exporter": "python",
   "pygments_lexer": "ipython3",
   "version": "3.11.5"
  }
 },
 "nbformat": 4,
 "nbformat_minor": 5
}
