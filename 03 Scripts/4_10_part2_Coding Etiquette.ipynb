{
 "cells": [
  {
   "cell_type": "code",
   "execution_count": 1,
   "id": "98657ca8",
   "metadata": {},
   "outputs": [],
   "source": [
    "#import libraries\n",
    "import pandas as pd\n",
    "import numpy as np\n",
    "import os\n",
    "import matplotlib.pyplot as plt\n",
    "import seaborn as sns\n",
    "import scipy\n",
    "from matplotlib.ticker import FormatStrFormatter"
   ]
  },
  {
   "cell_type": "code",
   "execution_count": 2,
   "id": "90b61a63",
   "metadata": {},
   "outputs": [],
   "source": [
    "#defining path\n",
    "path = r'C:\\Users\\User\\OneDrive\\Dokumentumok\\CF\\Phyton\\Instacart Basket Analysis'"
   ]
  },
  {
   "cell_type": "code",
   "execution_count": 42,
   "id": "4de5cd5f",
   "metadata": {},
   "outputs": [],
   "source": [
    "#importing the department dataframe\n",
    "df_dep = pd.read_csv(r'C:\\Users\\User\\OneDrive\\Dokumentumok\\CF\\Phyton\\Instacart Basket Analysis\\02 Data\\Original Data\\departments.csv')"
   ]
  },
  {
   "cell_type": "code",
   "execution_count": 4,
   "id": "9270a55a",
   "metadata": {},
   "outputs": [],
   "source": [
    "#importing the high_activity_customers dataframe\n",
    "df_high_activity_customers = pd.read_pickle(os.path.join(path, '02 Data','Prepared Data', 'high_activity_customers.pkl'))"
   ]
  },
  {
   "cell_type": "markdown",
   "id": "105b2896",
   "metadata": {},
   "source": [
    "#### 05 Create a profiling variable based on age, income, certain goods in the “department_id” column, and number of dependents. You might also use the “orders_day_of_week” and “order_hour_of_day” columns if you can think of a way they would impact customer profiles. (Hint: As an example, try thinking of what characteristics would lead you to the profile “Single adult” or “Young parent.”)"
   ]
  },
  {
   "cell_type": "markdown",
   "id": "932bf332",
   "metadata": {},
   "source": [
    "### Planning profile categories\n",
    "\n",
    "#### Young Adult\n",
    "Filter: 18 <'Age'< 25\n",
    "Characteristics: Individuals aged 18 to 24.\n",
    "Behaviors: Varied product interests, may prioritize convenience and affordability, flexible shopping schedule.\n",
    "\n",
    "#### Single adult\n",
    "Filter: 'Age' > 18 and 'n_dependants' = 0\n",
    "Characteristics: Individuals over 18 with no dependents.\n",
    "Behaviors: Independent shopping habits, potentially interested in single-serving or smaller portion sizes, may prioritize convenience.\n",
    "\n",
    "#### Young parent\n",
    "Filter: 'Age'< 35 and 'n_dependants' > 0\n",
    "Characteristics: Individuals aged to 34 with one or more dependents.\n",
    "Behaviors: Family-oriented purchases, buys baby and child-related products, may prioritize convenience and time-saving items.\n",
    "\n",
    "#### Busy Professional:\n",
    "Filter: 'income' is in the upper 30%, \n",
    "Characteristics: High income, limited time for shopping.\n",
    "Behaviors: Prefers quick and convenient online shopping, frequently orders prepared meals.\n",
    "    \n",
    "#### Big Family Shopper:\n",
    "Filter: 'n_dependants' > 2\n",
    "Characteristics: Parents with many children, larger households.\n",
    "Behaviors: Buys in bulk, focuses on family-friendly products."
   ]
  },
  {
   "cell_type": "code",
   "execution_count": 5,
   "id": "b29d3845",
   "metadata": {},
   "outputs": [],
   "source": [
    "# create a function called young_adult_profile\n",
    "\n",
    "def young_adult_profile(row):\n",
    "    if 18 < row['Age'] < 25:\n",
    "        return 'yes'\n",
    "    elif row['Age'] >= 25 or row['Age'] <= 18:\n",
    "        return 'no'\n",
    "    else:\n",
    "        return 'Not enough data'"
   ]
  },
  {
   "cell_type": "code",
   "execution_count": 6,
   "id": "aba8e7fe",
   "metadata": {},
   "outputs": [],
   "source": [
    "#create a new column for young_adult_profile\n",
    "df_high_activity_customers['young_adult_profile'] = df_high_activity_customers.apply(young_adult_profile, axis=1)"
   ]
  },
  {
   "cell_type": "code",
   "execution_count": 7,
   "id": "b86344b8",
   "metadata": {},
   "outputs": [
    {
     "data": {
      "text/plain": [
       "young_adult_profile\n",
       "no     28053904\n",
       "yes     2939585\n",
       "Name: count, dtype: int64"
      ]
     },
     "execution_count": 7,
     "metadata": {},
     "output_type": "execute_result"
    }
   ],
   "source": [
    "df_high_activity_customers['young_adult_profile'].value_counts()"
   ]
  },
  {
   "cell_type": "code",
   "execution_count": 8,
   "id": "31399ad8",
   "metadata": {},
   "outputs": [],
   "source": [
    "#export dataframe\n",
    "df_high_activity_customers.to_pickle(os.path.join(path, '02 Data','Prepared Data', 'high_activity_customers.pkl'))"
   ]
  },
  {
   "cell_type": "code",
   "execution_count": 9,
   "id": "ee8c9575",
   "metadata": {},
   "outputs": [],
   "source": [
    "# create a function called single_adult_profile\n",
    "\n",
    "def single_adult_profile(row):\n",
    "\n",
    "  if 1 > row['n_dependants']  and 18 < row['Age']:\n",
    "    return 'yes'\n",
    "  elif 1 <= row['n_dependants'] or  18 > row['Age']:\n",
    "    return 'no'\n",
    "  else: return 'Not enough data'"
   ]
  },
  {
   "cell_type": "code",
   "execution_count": 10,
   "id": "1ea67f2a",
   "metadata": {},
   "outputs": [],
   "source": [
    "#create a new column for single_adult_profile\n",
    "df_high_activity_customers['single_adult_profile'] = df_high_activity_customers.apply(single_adult_profile, axis=1)"
   ]
  },
  {
   "cell_type": "code",
   "execution_count": 11,
   "id": "e113f440",
   "metadata": {},
   "outputs": [
    {
     "data": {
      "text/plain": [
       "single_adult_profile\n",
       "no                 23246306\n",
       "yes                 7627849\n",
       "Not enough data      119334\n",
       "Name: count, dtype: int64"
      ]
     },
     "execution_count": 11,
     "metadata": {},
     "output_type": "execute_result"
    }
   ],
   "source": [
    "df_high_activity_customers['single_adult_profile'].value_counts()"
   ]
  },
  {
   "cell_type": "code",
   "execution_count": 12,
   "id": "354b19e5",
   "metadata": {},
   "outputs": [],
   "source": [
    "#export dataframe\n",
    "df_high_activity_customers.to_pickle(os.path.join(path, '02 Data','Prepared Data', 'high_activity_customers.pkl'))"
   ]
  },
  {
   "cell_type": "code",
   "execution_count": 13,
   "id": "a3f66838",
   "metadata": {},
   "outputs": [],
   "source": [
    "# create a function called Young parent_profile\n",
    "    \n",
    "def young_parent_profile(row):\n",
    "    if 1 <= row['n_dependants'] and 18 <= row['Age'] <= 35:\n",
    "        return 'yes'\n",
    "    elif 1 > row['n_dependants'] or 18 > row['Age'] or 35 < row['Age']:\n",
    "        return 'no'\n",
    "    else:\n",
    "        return 'Not enough data'\n"
   ]
  },
  {
   "cell_type": "code",
   "execution_count": 14,
   "id": "4130cff8",
   "metadata": {},
   "outputs": [],
   "source": [
    "#create a new column for young_parent_profile\n",
    "df_high_activity_customers['young_parent_profile'] = df_high_activity_customers.apply(young_parent_profile, axis=1)"
   ]
  },
  {
   "cell_type": "code",
   "execution_count": 15,
   "id": "218e770c",
   "metadata": {},
   "outputs": [
    {
     "data": {
      "text/plain": [
       "young_parent_profile\n",
       "no     24426244\n",
       "yes     6567245\n",
       "Name: count, dtype: int64"
      ]
     },
     "execution_count": 15,
     "metadata": {},
     "output_type": "execute_result"
    }
   ],
   "source": [
    "df_high_activity_customers['young_parent_profile'].value_counts()"
   ]
  },
  {
   "cell_type": "code",
   "execution_count": 16,
   "id": "d028809e",
   "metadata": {},
   "outputs": [],
   "source": [
    "#export dataframe\n",
    "df_high_activity_customers.to_pickle(os.path.join(path, '02 Data','Prepared Data', 'high_activity_customers.pkl'))"
   ]
  },
  {
   "cell_type": "code",
   "execution_count": 19,
   "id": "a81cb337",
   "metadata": {},
   "outputs": [
    {
     "name": "stdout",
     "output_type": "stream",
     "text": [
      "119517.0\n"
     ]
    }
   ],
   "source": [
    "#calculate the upper 30% of incomes\n",
    "q = df_high_activity_customers['income'].quantile(0.70)\n",
    "print (q)"
   ]
  },
  {
   "cell_type": "code",
   "execution_count": 20,
   "id": "c27afebf",
   "metadata": {},
   "outputs": [],
   "source": [
    "# create a function called Busy Professional_profile\n",
    "\n",
    "def busy_professional_profile(row):\n",
    "\n",
    "  if  q < row['income'] :\n",
    "    return 'yes'\n",
    "  elif q >= row['income'] :\n",
    "    return 'no'\n",
    "  else: return 'Not enough data'"
   ]
  },
  {
   "cell_type": "code",
   "execution_count": 21,
   "id": "a857b367",
   "metadata": {},
   "outputs": [],
   "source": [
    "#create a new column for busy_professional_profile\n",
    "df_high_activity_customers['busy_professional_profile'] = df_high_activity_customers.apply(busy_professional_profile, axis=1)"
   ]
  },
  {
   "cell_type": "code",
   "execution_count": 22,
   "id": "4af5c025",
   "metadata": {},
   "outputs": [
    {
     "data": {
      "text/plain": [
       "busy_professional_profile\n",
       "no     21695504\n",
       "yes     9297985\n",
       "Name: count, dtype: int64"
      ]
     },
     "execution_count": 22,
     "metadata": {},
     "output_type": "execute_result"
    }
   ],
   "source": [
    "df_high_activity_customers['busy_professional_profile'].value_counts()"
   ]
  },
  {
   "cell_type": "code",
   "execution_count": 23,
   "id": "20afcf66",
   "metadata": {},
   "outputs": [],
   "source": [
    "#export dataframe\n",
    "df_high_activity_customers.to_pickle(os.path.join(path, '02 Data','Prepared Data', 'high_activity_customers.pkl'))"
   ]
  },
  {
   "cell_type": "code",
   "execution_count": 27,
   "id": "532de8e6",
   "metadata": {},
   "outputs": [],
   "source": [
    "#create function to Big Family Shopper profile\n",
    "def big_family_profile(row):\n",
    "\n",
    "  if 2 < row['n_dependants']:\n",
    "    return 'yes'\n",
    "  elif 2 >= row['n_dependants']:\n",
    "    return 'no'\n",
    "  else: return 'Not enough data'"
   ]
  },
  {
   "cell_type": "code",
   "execution_count": 28,
   "id": "866e9dd6",
   "metadata": {},
   "outputs": [],
   "source": [
    "#create a new column for big_family_profile\n",
    "df_high_activity_customers['big_family_profile'] = df_high_activity_customers.apply(big_family_profile, axis=1)"
   ]
  },
  {
   "cell_type": "code",
   "execution_count": 29,
   "id": "37f9aa8c",
   "metadata": {},
   "outputs": [
    {
     "data": {
      "text/plain": [
       "big_family_profile\n",
       "no     23213851\n",
       "yes     7779638\n",
       "Name: count, dtype: int64"
      ]
     },
     "execution_count": 29,
     "metadata": {},
     "output_type": "execute_result"
    }
   ],
   "source": [
    "df_high_activity_customers['big_family_profile'].value_counts()"
   ]
  },
  {
   "cell_type": "code",
   "execution_count": 30,
   "id": "7f040737",
   "metadata": {},
   "outputs": [],
   "source": [
    "#export dataframe\n",
    "df_high_activity_customers.to_pickle(os.path.join(path, '02 Data','Prepared Data', 'high_activity_customers.pkl'))"
   ]
  },
  {
   "cell_type": "markdown",
   "id": "7a3955cb",
   "metadata": {},
   "source": [
    "#### 06 Create an appropriate visualization to show the distribution of profiles."
   ]
  },
  {
   "cell_type": "code",
   "execution_count": 9,
   "id": "13385130",
   "metadata": {},
   "outputs": [],
   "source": [
    "#create dataframe to barchart\n",
    "df_bar = pd.DataFrame({'young_adult_profile' : df_high_activity_customers['young_adult_profile'].value_counts('yes'),\n",
    "                       'single_adult_profile' : df_high_activity_customers['single_adult_profile'].value_counts('yes'),\n",
    "                       'busy_professional_profile' : df_high_activity_customers['busy_professional_profile'].value_counts('yes'),\n",
    "                       'young_parent_profile' : df_high_activity_customers['young_parent_profile'].value_counts('yes'),\n",
    "                       'big_family_profile' : df_high_activity_customers['big_family_profile'].value_counts('yes')})\n",
    "                       "
   ]
  },
  {
   "cell_type": "code",
   "execution_count": 10,
   "id": "e18ec76e",
   "metadata": {},
   "outputs": [
    {
     "data": {
      "image/png": "[encoded data removed]",
      "text/plain": [
       "<Figure size 640x480 with 1 Axes>"
      ]
     },
     "metadata": {},
     "output_type": "display_data"
    }
   ],
   "source": [
    "# Create a bar chart with logarithmic scale on the y-axis\n",
    "\n",
    "bar = df_bar.plot.bar()\n"
   ]
  },
  {
   "cell_type": "code",
   "execution_count": 11,
   "id": "16cb09f1",
   "metadata": {},
   "outputs": [
    {
     "data": {
      "text/plain": [
       "<Figure size 640x480 with 0 Axes>"
      ]
     },
     "metadata": {},
     "output_type": "display_data"
    }
   ],
   "source": [
    "# exporting chart\n",
    "bar.figure.savefig(os.path.join(path, '04 Analysis','Visualizations', 'profiles2.png'))"
   ]
  },
  {
   "cell_type": "markdown",
   "id": "50447fd5",
   "metadata": {},
   "source": [
    "#### 07 Aggregate the max, mean, and min variables on a customer-profile level for usage frequency and expenditure."
   ]
  },
  {
   "cell_type": "code",
   "execution_count": 41,
   "id": "96c59455",
   "metadata": {},
   "outputs": [],
   "source": [
    "# subset df_big_fam\n",
    "df_big_fam = df_high_activity_customers[df_high_activity_customers['big_family_profile'] == 'yes']"
   ]
  },
  {
   "cell_type": "code",
   "execution_count": 42,
   "id": "ec49d884",
   "metadata": {},
   "outputs": [
    {
     "data": {
      "text/plain": [
       "(7779638, 40)"
      ]
     },
     "execution_count": 42,
     "metadata": {},
     "output_type": "execute_result"
    }
   ],
   "source": [
    "df_big_fam.shape"
   ]
  },
  {
   "cell_type": "code",
   "execution_count": 43,
   "id": "a311cbf8",
   "metadata": {},
   "outputs": [
    {
     "data": {
      "text/plain": [
       "Index(['product_id', 'product_name', 'aisle_id', 'department_id', 'prices',\n",
       "       'order_id', 'user_id', 'order_number', 'orders_day_of_week',\n",
       "       'order_time_of_day', 'days_since_prior_order', 'add_to_cart_order',\n",
       "       'reordered', 'price_range_loc', 'busiest_day', 'busiest_days',\n",
       "       'busiest_period_of_day', 'max_order', 'loyalty_flag', 'mean_prices',\n",
       "       'spender_type', 'median_days_since_prior_order', 'customer_frequency',\n",
       "       'First Name', 'Surname', 'Gender', 'STATE', 'Age', 'date_joined',\n",
       "       'n_dependants', 'fam_status', 'income', '_merge', 'max_order_number',\n",
       "       'customer_activity', 'young_adult_profile', 'single_adult_profile',\n",
       "       'young_parent_profile', 'busy_professional_profile',\n",
       "       'big_family_profile'],\n",
       "      dtype='object')"
      ]
     },
     "execution_count": 43,
     "metadata": {},
     "output_type": "execute_result"
    }
   ],
   "source": [
    "df_big_fam.columns"
   ]
  },
  {
   "cell_type": "code",
   "execution_count": 47,
   "id": "07a5b60e",
   "metadata": {},
   "outputs": [
    {
     "data": {
      "text/plain": [
       "30.0"
      ]
     },
     "execution_count": 47,
     "metadata": {},
     "output_type": "execute_result"
    }
   ],
   "source": [
    "# usage frequency\n",
    "df_big_fam['days_since_prior_order'].max()"
   ]
  },
  {
   "cell_type": "code",
   "execution_count": 48,
   "id": "98a8aa0c",
   "metadata": {},
   "outputs": [
    {
     "data": {
      "text/plain": [
       "0.0"
      ]
     },
     "execution_count": 48,
     "metadata": {},
     "output_type": "execute_result"
    }
   ],
   "source": [
    "# usage frequency\n",
    "df_big_fam['days_since_prior_order'].min()"
   ]
  },
  {
   "cell_type": "code",
   "execution_count": 60,
   "id": "b1766902",
   "metadata": {},
   "outputs": [
    {
     "data": {
      "text/plain": [
       "7.0"
      ]
     },
     "execution_count": 60,
     "metadata": {},
     "output_type": "execute_result"
    }
   ],
   "source": [
    "# usage frequency\n",
    "df_big_fam['days_since_prior_order'].median()"
   ]
  },
  {
   "cell_type": "code",
   "execution_count": 61,
   "id": "053b6263",
   "metadata": {},
   "outputs": [
    {
     "data": {
      "text/plain": [
       "10209.987755102042"
      ]
     },
     "execution_count": 61,
     "metadata": {},
     "output_type": "execute_result"
    }
   ],
   "source": [
    "# expenditure\n",
    "df_big_fam['mean_prices'].max()"
   ]
  },
  {
   "cell_type": "code",
   "execution_count": 62,
   "id": "839ac697",
   "metadata": {},
   "outputs": [
    {
     "data": {
      "text/plain": [
       "1.2625000000000002"
      ]
     },
     "execution_count": 62,
     "metadata": {},
     "output_type": "execute_result"
    }
   ],
   "source": [
    "df_big_fam['mean_prices'].min()"
   ]
  },
  {
   "cell_type": "code",
   "execution_count": 63,
   "id": "4380ac8e",
   "metadata": {},
   "outputs": [
    {
     "data": {
      "text/plain": [
       "11.78953995738821"
      ]
     },
     "execution_count": 63,
     "metadata": {},
     "output_type": "execute_result"
    }
   ],
   "source": [
    "df_big_fam['mean_prices'].mean()"
   ]
  },
  {
   "cell_type": "markdown",
   "id": "c5df3d54",
   "metadata": {},
   "source": [
    "#### 08 Compare your customer profiles with regions and departments. Can you identify a link between them? Customers may demonstrate different behaviors across regions, which could make this information important."
   ]
  },
  {
   "cell_type": "code",
   "execution_count": 5,
   "id": "86fe835e",
   "metadata": {},
   "outputs": [],
   "source": [
    "# create a new column to summerize the customer profiles\n",
    "\n",
    "df_high_activity_customers.loc[df_high_activity_customers['young_adult_profile'] == 'yes', 'customer_profile_sum'] = 'young_adult'\n",
    "df_high_activity_customers.loc[df_high_activity_customers['single_adult_profile'] == 'yes', 'customer_profile_sum'] = 'single_adult'\n",
    "df_high_activity_customers.loc[df_high_activity_customers['busy_professional_profile'] == 'yes', 'customer_profile_sum'] = 'busy_professional'\n",
    "df_high_activity_customers.loc[df_high_activity_customers['young_parent_profile'] == 'yes', 'customer_profile_sum'] = 'young_parent'\n",
    "df_high_activity_customers.loc[df_high_activity_customers['big_family_profile'] == 'yes', 'customer_profile_sum'] = 'big_family'"
   ]
  },
  {
   "cell_type": "code",
   "execution_count": 6,
   "id": "60d6f662",
   "metadata": {},
   "outputs": [
    {
     "data": {
      "text/plain": [
       "Index(['product_id', 'product_name', 'aisle_id', 'department_id', 'prices',\n",
       "       'order_id', 'user_id', 'order_number', 'orders_day_of_week',\n",
       "       'order_time_of_day', 'days_since_prior_order', 'add_to_cart_order',\n",
       "       'reordered', 'price_range_loc', 'busiest_day', 'busiest_days',\n",
       "       'busiest_period_of_day', 'max_order', 'loyalty_flag', 'mean_prices',\n",
       "       'spender_type', 'median_days_since_prior_order', 'customer_frequency',\n",
       "       'First Name', 'Surname', 'Gender', 'STATE', 'Age', 'date_joined',\n",
       "       'n_dependants', 'fam_status', 'income', '_merge', 'max_order_number',\n",
       "       'customer_activity', 'young_adult_profile', 'single_adult_profile',\n",
       "       'young_parent_profile', 'busy_professional_profile',\n",
       "       'big_family_profile', 'customer_profile_sum'],\n",
       "      dtype='object')"
      ]
     },
     "execution_count": 6,
     "metadata": {},
     "output_type": "execute_result"
    }
   ],
   "source": [
    "# check the new column\n",
    "df_high_activity_customers.columns"
   ]
  },
  {
   "cell_type": "code",
   "execution_count": 9,
   "id": "018a2ce7",
   "metadata": {},
   "outputs": [],
   "source": [
    "#create a new column, 'region' and collect the Northest Region States\n",
    "df_high_activity_customers.loc[df_high_activity_customers['STATE'].isin(['Maine', 'New Hampshire', 'Vermont', 'Massachusetts', 'Rhode Island', 'Connecticut', 'New York', \n",
    "                    'Pennsylvania', 'New Jersey']), 'region'] = 'Region_Northeast'"
   ]
  },
  {
   "cell_type": "code",
   "execution_count": 11,
   "id": "d8fc3473",
   "metadata": {},
   "outputs": [],
   "source": [
    "#create 'Region_Midwest'\n",
    "df_high_activity_customers.loc[df_high_activity_customers['STATE'].isin(['Wisconsin', 'Michigan', 'Illinois', 'Indiana', 'Ohio', 'North Dakota', 'South Dakota', 'Nebraska',\n",
    "                  'Kansas', 'Minnesota', 'Iowa', 'Missouri']), 'region'] = 'Region_Midwest'"
   ]
  },
  {
   "cell_type": "code",
   "execution_count": 12,
   "id": "c58447fc",
   "metadata": {},
   "outputs": [],
   "source": [
    "#create 'Region_South'\n",
    "df_high_activity_customers.loc[df_high_activity_customers['STATE'].isin(['Delaware', 'Maryland', 'District of Columbia', 'Virginia', 'West Virginia', 'North Carolina',\n",
    "                'South Carolina', 'Georgia', 'Florida', 'Kentucky', 'Tennessee', 'Mississippi', 'Alabama',\n",
    "                'Oklahoma', 'Texas', 'Arkansas', 'Louisiana']), 'region'] = 'Region_South'"
   ]
  },
  {
   "cell_type": "code",
   "execution_count": 13,
   "id": "44a97482",
   "metadata": {},
   "outputs": [],
   "source": [
    "#create 'Region_West'\n",
    "df_high_activity_customers.loc[df_high_activity_customers['STATE'].isin(['Idaho', 'Montana', 'Wyoming', 'Nevada', 'Utah', 'Colorado', 'Arizona', 'New Mexico',\n",
    "               'Alaska', 'Washington', 'Oregon', 'California', 'Hawaii']), 'region'] = 'Region_West'"
   ]
  },
  {
   "cell_type": "code",
   "execution_count": 14,
   "id": "31133bf9",
   "metadata": {},
   "outputs": [
    {
     "data": {
      "text/plain": [
       "Index(['product_id', 'product_name', 'aisle_id', 'department_id', 'prices',\n",
       "       'order_id', 'user_id', 'order_number', 'orders_day_of_week',\n",
       "       'order_time_of_day', 'days_since_prior_order', 'add_to_cart_order',\n",
       "       'reordered', 'price_range_loc', 'busiest_day', 'busiest_days',\n",
       "       'busiest_period_of_day', 'max_order', 'loyalty_flag', 'mean_prices',\n",
       "       'spender_type', 'median_days_since_prior_order', 'customer_frequency',\n",
       "       'First Name', 'Surname', 'Gender', 'STATE', 'Age', 'date_joined',\n",
       "       'n_dependants', 'fam_status', 'income', '_merge', 'max_order_number',\n",
       "       'customer_activity', 'young_adult_profile', 'single_adult_profile',\n",
       "       'young_parent_profile', 'busy_professional_profile',\n",
       "       'big_family_profile', 'customer_profile_sum', 'region'],\n",
       "      dtype='object')"
      ]
     },
     "execution_count": 14,
     "metadata": {},
     "output_type": "execute_result"
    }
   ],
   "source": [
    "df_high_activity_customers.columns"
   ]
  },
  {
   "cell_type": "code",
   "execution_count": 16,
   "id": "ab457d0a",
   "metadata": {},
   "outputs": [
    {
     "data": {
      "text/html": [
       "<div>\n",
       "<style scoped>\n",
       "    .dataframe tbody tr th:only-of-type {\n",
       "        vertical-align: middle;\n",
       "    }\n",
       "\n",
       "    .dataframe tbody tr th {\n",
       "        vertical-align: top;\n",
       "    }\n",
       "\n",
       "    .dataframe thead th {\n",
       "        text-align: right;\n",
       "    }\n",
       "</style>\n",
       "<table border=\"1\" class=\"dataframe\">\n",
       "  <thead>\n",
       "    <tr style=\"text-align: right;\">\n",
       "      <th></th>\n",
       "      <th>product_id</th>\n",
       "      <th>product_name</th>\n",
       "      <th>aisle_id</th>\n",
       "      <th>department_id</th>\n",
       "      <th>prices</th>\n",
       "      <th>order_id</th>\n",
       "      <th>user_id</th>\n",
       "      <th>order_number</th>\n",
       "      <th>orders_day_of_week</th>\n",
       "      <th>order_time_of_day</th>\n",
       "      <th>...</th>\n",
       "      <th>_merge</th>\n",
       "      <th>max_order_number</th>\n",
       "      <th>customer_activity</th>\n",
       "      <th>young_adult_profile</th>\n",
       "      <th>single_adult_profile</th>\n",
       "      <th>young_parent_profile</th>\n",
       "      <th>busy_professional_profile</th>\n",
       "      <th>big_family_profile</th>\n",
       "      <th>customer_profile_sum</th>\n",
       "      <th>region</th>\n",
       "    </tr>\n",
       "  </thead>\n",
       "  <tbody>\n",
       "    <tr>\n",
       "      <th>0</th>\n",
       "      <td>1</td>\n",
       "      <td>Chocolate Sandwich Cookies</td>\n",
       "      <td>61.0</td>\n",
       "      <td>19.0</td>\n",
       "      <td>5.8</td>\n",
       "      <td>3139998.0</td>\n",
       "      <td>138</td>\n",
       "      <td>28.0</td>\n",
       "      <td>6.0</td>\n",
       "      <td>11.0</td>\n",
       "      <td>...</td>\n",
       "      <td>both</td>\n",
       "      <td>32.0</td>\n",
       "      <td>high-activity customer</td>\n",
       "      <td>no</td>\n",
       "      <td>no</td>\n",
       "      <td>no</td>\n",
       "      <td>no</td>\n",
       "      <td>no</td>\n",
       "      <td>NaN</td>\n",
       "      <td>Region_Midwest</td>\n",
       "    </tr>\n",
       "    <tr>\n",
       "      <th>1</th>\n",
       "      <td>1</td>\n",
       "      <td>Chocolate Sandwich Cookies</td>\n",
       "      <td>61.0</td>\n",
       "      <td>19.0</td>\n",
       "      <td>5.8</td>\n",
       "      <td>1977647.0</td>\n",
       "      <td>138</td>\n",
       "      <td>30.0</td>\n",
       "      <td>6.0</td>\n",
       "      <td>17.0</td>\n",
       "      <td>...</td>\n",
       "      <td>both</td>\n",
       "      <td>32.0</td>\n",
       "      <td>high-activity customer</td>\n",
       "      <td>no</td>\n",
       "      <td>no</td>\n",
       "      <td>no</td>\n",
       "      <td>no</td>\n",
       "      <td>no</td>\n",
       "      <td>NaN</td>\n",
       "      <td>Region_Midwest</td>\n",
       "    </tr>\n",
       "    <tr>\n",
       "      <th>2</th>\n",
       "      <td>907</td>\n",
       "      <td>Premium Sliced Bacon</td>\n",
       "      <td>106.0</td>\n",
       "      <td>12.0</td>\n",
       "      <td>20.0</td>\n",
       "      <td>3160996.0</td>\n",
       "      <td>138</td>\n",
       "      <td>1.0</td>\n",
       "      <td>5.0</td>\n",
       "      <td>13.0</td>\n",
       "      <td>...</td>\n",
       "      <td>both</td>\n",
       "      <td>32.0</td>\n",
       "      <td>high-activity customer</td>\n",
       "      <td>no</td>\n",
       "      <td>no</td>\n",
       "      <td>no</td>\n",
       "      <td>no</td>\n",
       "      <td>no</td>\n",
       "      <td>NaN</td>\n",
       "      <td>Region_Midwest</td>\n",
       "    </tr>\n",
       "    <tr>\n",
       "      <th>3</th>\n",
       "      <td>907</td>\n",
       "      <td>Premium Sliced Bacon</td>\n",
       "      <td>106.0</td>\n",
       "      <td>12.0</td>\n",
       "      <td>20.0</td>\n",
       "      <td>2254091.0</td>\n",
       "      <td>138</td>\n",
       "      <td>10.0</td>\n",
       "      <td>5.0</td>\n",
       "      <td>14.0</td>\n",
       "      <td>...</td>\n",
       "      <td>both</td>\n",
       "      <td>32.0</td>\n",
       "      <td>high-activity customer</td>\n",
       "      <td>no</td>\n",
       "      <td>no</td>\n",
       "      <td>no</td>\n",
       "      <td>no</td>\n",
       "      <td>no</td>\n",
       "      <td>NaN</td>\n",
       "      <td>Region_Midwest</td>\n",
       "    </tr>\n",
       "    <tr>\n",
       "      <th>4</th>\n",
       "      <td>1000</td>\n",
       "      <td>Apricots</td>\n",
       "      <td>18.0</td>\n",
       "      <td>10.0</td>\n",
       "      <td>12.9</td>\n",
       "      <td>505689.0</td>\n",
       "      <td>138</td>\n",
       "      <td>9.0</td>\n",
       "      <td>6.0</td>\n",
       "      <td>12.0</td>\n",
       "      <td>...</td>\n",
       "      <td>both</td>\n",
       "      <td>32.0</td>\n",
       "      <td>high-activity customer</td>\n",
       "      <td>no</td>\n",
       "      <td>no</td>\n",
       "      <td>no</td>\n",
       "      <td>no</td>\n",
       "      <td>no</td>\n",
       "      <td>NaN</td>\n",
       "      <td>Region_Midwest</td>\n",
       "    </tr>\n",
       "    <tr>\n",
       "      <th>...</th>\n",
       "      <td>...</td>\n",
       "      <td>...</td>\n",
       "      <td>...</td>\n",
       "      <td>...</td>\n",
       "      <td>...</td>\n",
       "      <td>...</td>\n",
       "      <td>...</td>\n",
       "      <td>...</td>\n",
       "      <td>...</td>\n",
       "      <td>...</td>\n",
       "      <td>...</td>\n",
       "      <td>...</td>\n",
       "      <td>...</td>\n",
       "      <td>...</td>\n",
       "      <td>...</td>\n",
       "      <td>...</td>\n",
       "      <td>...</td>\n",
       "      <td>...</td>\n",
       "      <td>...</td>\n",
       "      <td>...</td>\n",
       "      <td>...</td>\n",
       "    </tr>\n",
       "    <tr>\n",
       "      <th>145</th>\n",
       "      <td>46802</td>\n",
       "      <td>Pineapple Chunks</td>\n",
       "      <td>116.0</td>\n",
       "      <td>1.0</td>\n",
       "      <td>1.8</td>\n",
       "      <td>2329217.0</td>\n",
       "      <td>138</td>\n",
       "      <td>32.0</td>\n",
       "      <td>5.0</td>\n",
       "      <td>20.0</td>\n",
       "      <td>...</td>\n",
       "      <td>both</td>\n",
       "      <td>32.0</td>\n",
       "      <td>high-activity customer</td>\n",
       "      <td>no</td>\n",
       "      <td>no</td>\n",
       "      <td>no</td>\n",
       "      <td>no</td>\n",
       "      <td>no</td>\n",
       "      <td>NaN</td>\n",
       "      <td>Region_Midwest</td>\n",
       "    </tr>\n",
       "    <tr>\n",
       "      <th>146</th>\n",
       "      <td>48812</td>\n",
       "      <td>Variety Pack</td>\n",
       "      <td>85.0</td>\n",
       "      <td>17.0</td>\n",
       "      <td>9.0</td>\n",
       "      <td>894221.0</td>\n",
       "      <td>138</td>\n",
       "      <td>23.0</td>\n",
       "      <td>5.0</td>\n",
       "      <td>13.0</td>\n",
       "      <td>...</td>\n",
       "      <td>both</td>\n",
       "      <td>32.0</td>\n",
       "      <td>high-activity customer</td>\n",
       "      <td>no</td>\n",
       "      <td>no</td>\n",
       "      <td>no</td>\n",
       "      <td>no</td>\n",
       "      <td>no</td>\n",
       "      <td>NaN</td>\n",
       "      <td>Region_Midwest</td>\n",
       "    </tr>\n",
       "    <tr>\n",
       "      <th>147</th>\n",
       "      <td>49463</td>\n",
       "      <td>Organic Whole Bean Coffee</td>\n",
       "      <td>26.0</td>\n",
       "      <td>7.0</td>\n",
       "      <td>6.2</td>\n",
       "      <td>1069065.0</td>\n",
       "      <td>138</td>\n",
       "      <td>31.0</td>\n",
       "      <td>2.0</td>\n",
       "      <td>7.0</td>\n",
       "      <td>...</td>\n",
       "      <td>both</td>\n",
       "      <td>32.0</td>\n",
       "      <td>high-activity customer</td>\n",
       "      <td>no</td>\n",
       "      <td>no</td>\n",
       "      <td>no</td>\n",
       "      <td>no</td>\n",
       "      <td>no</td>\n",
       "      <td>NaN</td>\n",
       "      <td>Region_Midwest</td>\n",
       "    </tr>\n",
       "    <tr>\n",
       "      <th>148</th>\n",
       "      <td>1</td>\n",
       "      <td>Chocolate Sandwich Cookies</td>\n",
       "      <td>61.0</td>\n",
       "      <td>19.0</td>\n",
       "      <td>5.8</td>\n",
       "      <td>389851.0</td>\n",
       "      <td>709</td>\n",
       "      <td>2.0</td>\n",
       "      <td>0.0</td>\n",
       "      <td>21.0</td>\n",
       "      <td>...</td>\n",
       "      <td>both</td>\n",
       "      <td>5.0</td>\n",
       "      <td>high-activity customer</td>\n",
       "      <td>no</td>\n",
       "      <td>no</td>\n",
       "      <td>no</td>\n",
       "      <td>yes</td>\n",
       "      <td>no</td>\n",
       "      <td>busy_professional</td>\n",
       "      <td>Region_Northeast</td>\n",
       "    </tr>\n",
       "    <tr>\n",
       "      <th>149</th>\n",
       "      <td>196</td>\n",
       "      <td>Soda</td>\n",
       "      <td>77.0</td>\n",
       "      <td>7.0</td>\n",
       "      <td>9.0</td>\n",
       "      <td>147387.0</td>\n",
       "      <td>709</td>\n",
       "      <td>4.0</td>\n",
       "      <td>0.0</td>\n",
       "      <td>21.0</td>\n",
       "      <td>...</td>\n",
       "      <td>both</td>\n",
       "      <td>5.0</td>\n",
       "      <td>high-activity customer</td>\n",
       "      <td>no</td>\n",
       "      <td>no</td>\n",
       "      <td>no</td>\n",
       "      <td>yes</td>\n",
       "      <td>no</td>\n",
       "      <td>busy_professional</td>\n",
       "      <td>Region_Northeast</td>\n",
       "    </tr>\n",
       "  </tbody>\n",
       "</table>\n",
       "<p>150 rows × 42 columns</p>\n",
       "</div>"
      ],
      "text/plain": [
       "     product_id                product_name  aisle_id  department_id  prices  \\\n",
       "0             1  Chocolate Sandwich Cookies      61.0           19.0     5.8   \n",
       "1             1  Chocolate Sandwich Cookies      61.0           19.0     5.8   \n",
       "2           907        Premium Sliced Bacon     106.0           12.0    20.0   \n",
       "3           907        Premium Sliced Bacon     106.0           12.0    20.0   \n",
       "4          1000                    Apricots      18.0           10.0    12.9   \n",
       "..          ...                         ...       ...            ...     ...   \n",
       "145       46802            Pineapple Chunks     116.0            1.0     1.8   \n",
       "146       48812                Variety Pack      85.0           17.0     9.0   \n",
       "147       49463   Organic Whole Bean Coffee      26.0            7.0     6.2   \n",
       "148           1  Chocolate Sandwich Cookies      61.0           19.0     5.8   \n",
       "149         196                        Soda      77.0            7.0     9.0   \n",
       "\n",
       "      order_id  user_id  order_number  orders_day_of_week  order_time_of_day  \\\n",
       "0    3139998.0      138          28.0                 6.0               11.0   \n",
       "1    1977647.0      138          30.0                 6.0               17.0   \n",
       "2    3160996.0      138           1.0                 5.0               13.0   \n",
       "3    2254091.0      138          10.0                 5.0               14.0   \n",
       "4     505689.0      138           9.0                 6.0               12.0   \n",
       "..         ...      ...           ...                 ...                ...   \n",
       "145  2329217.0      138          32.0                 5.0               20.0   \n",
       "146   894221.0      138          23.0                 5.0               13.0   \n",
       "147  1069065.0      138          31.0                 2.0                7.0   \n",
       "148   389851.0      709           2.0                 0.0               21.0   \n",
       "149   147387.0      709           4.0                 0.0               21.0   \n",
       "\n",
       "     ...  _merge  max_order_number       customer_activity  \\\n",
       "0    ...    both              32.0  high-activity customer   \n",
       "1    ...    both              32.0  high-activity customer   \n",
       "2    ...    both              32.0  high-activity customer   \n",
       "3    ...    both              32.0  high-activity customer   \n",
       "4    ...    both              32.0  high-activity customer   \n",
       "..   ...     ...               ...                     ...   \n",
       "145  ...    both              32.0  high-activity customer   \n",
       "146  ...    both              32.0  high-activity customer   \n",
       "147  ...    both              32.0  high-activity customer   \n",
       "148  ...    both               5.0  high-activity customer   \n",
       "149  ...    both               5.0  high-activity customer   \n",
       "\n",
       "    young_adult_profile single_adult_profile young_parent_profile  \\\n",
       "0                    no                   no                   no   \n",
       "1                    no                   no                   no   \n",
       "2                    no                   no                   no   \n",
       "3                    no                   no                   no   \n",
       "4                    no                   no                   no   \n",
       "..                  ...                  ...                  ...   \n",
       "145                  no                   no                   no   \n",
       "146                  no                   no                   no   \n",
       "147                  no                   no                   no   \n",
       "148                  no                   no                   no   \n",
       "149                  no                   no                   no   \n",
       "\n",
       "    busy_professional_profile  big_family_profile customer_profile_sum  \\\n",
       "0                          no                  no                  NaN   \n",
       "1                          no                  no                  NaN   \n",
       "2                          no                  no                  NaN   \n",
       "3                          no                  no                  NaN   \n",
       "4                          no                  no                  NaN   \n",
       "..                        ...                 ...                  ...   \n",
       "145                        no                  no                  NaN   \n",
       "146                        no                  no                  NaN   \n",
       "147                        no                  no                  NaN   \n",
       "148                       yes                  no    busy_professional   \n",
       "149                       yes                  no    busy_professional   \n",
       "\n",
       "               region  \n",
       "0      Region_Midwest  \n",
       "1      Region_Midwest  \n",
       "2      Region_Midwest  \n",
       "3      Region_Midwest  \n",
       "4      Region_Midwest  \n",
       "..                ...  \n",
       "145    Region_Midwest  \n",
       "146    Region_Midwest  \n",
       "147    Region_Midwest  \n",
       "148  Region_Northeast  \n",
       "149  Region_Northeast  \n",
       "\n",
       "[150 rows x 42 columns]"
      ]
     },
     "execution_count": 16,
     "metadata": {},
     "output_type": "execute_result"
    }
   ],
   "source": [
    "df_high_activity_customers.head(150)"
   ]
  },
  {
   "cell_type": "code",
   "execution_count": 17,
   "id": "53546b6d",
   "metadata": {},
   "outputs": [],
   "source": [
    "#export dataframe\n",
    "df_high_activity_customers.to_pickle(os.path.join(path, '02 Data','Prepared Data', 'high_activity_customers.pkl'))"
   ]
  },
  {
   "cell_type": "markdown",
   "id": "4ef3c5ef",
   "metadata": {},
   "source": [
    "#### 8a Compare your customer profiles with regions\n"
   ]
  },
  {
   "cell_type": "code",
   "execution_count": 5,
   "id": "7eb3de83",
   "metadata": {},
   "outputs": [],
   "source": [
    "# subset df\n",
    "df_profiles = df_high_activity_customers.dropna(subset=['customer_profile_sum'])"
   ]
  },
  {
   "cell_type": "code",
   "execution_count": 6,
   "id": "9d296afa",
   "metadata": {},
   "outputs": [],
   "source": [
    "df_profiles_chart = df_profiles[['department_id', 'user_id', 'add_to_cart_order', 'mean_prices', 'customer_profile_sum', 'region']]"
   ]
  },
  {
   "cell_type": "code",
   "execution_count": 20,
   "id": "4fd27bbd",
   "metadata": {},
   "outputs": [
    {
     "data": {
      "text/plain": [
       "Index(['department_id', 'user_id', 'add_to_cart_order', 'mean_prices',\n",
       "       'customer_profile_sum', 'region'],\n",
       "      dtype='object')"
      ]
     },
     "execution_count": 20,
     "metadata": {},
     "output_type": "execute_result"
    }
   ],
   "source": [
    "df_profiles_chart.columns"
   ]
  },
  {
   "cell_type": "code",
   "execution_count": 21,
   "id": "fcac7a2e",
   "metadata": {},
   "outputs": [
    {
     "data": {
      "text/html": [
       "<div>\n",
       "<style scoped>\n",
       "    .dataframe tbody tr th:only-of-type {\n",
       "        vertical-align: middle;\n",
       "    }\n",
       "\n",
       "    .dataframe tbody tr th {\n",
       "        vertical-align: top;\n",
       "    }\n",
       "\n",
       "    .dataframe thead th {\n",
       "        text-align: right;\n",
       "    }\n",
       "</style>\n",
       "<table border=\"1\" class=\"dataframe\">\n",
       "  <thead>\n",
       "    <tr style=\"text-align: right;\">\n",
       "      <th></th>\n",
       "      <th>department_id</th>\n",
       "      <th>user_id</th>\n",
       "      <th>add_to_cart_order</th>\n",
       "      <th>mean_prices</th>\n",
       "      <th>customer_profile_sum</th>\n",
       "      <th>region</th>\n",
       "    </tr>\n",
       "  </thead>\n",
       "  <tbody>\n",
       "    <tr>\n",
       "      <th>148</th>\n",
       "      <td>19.0</td>\n",
       "      <td>709</td>\n",
       "      <td>20.0</td>\n",
       "      <td>7.930208</td>\n",
       "      <td>busy_professional</td>\n",
       "      <td>Region_Northeast</td>\n",
       "    </tr>\n",
       "    <tr>\n",
       "      <th>149</th>\n",
       "      <td>7.0</td>\n",
       "      <td>709</td>\n",
       "      <td>33.0</td>\n",
       "      <td>7.930208</td>\n",
       "      <td>busy_professional</td>\n",
       "      <td>Region_Northeast</td>\n",
       "    </tr>\n",
       "    <tr>\n",
       "      <th>150</th>\n",
       "      <td>7.0</td>\n",
       "      <td>709</td>\n",
       "      <td>17.0</td>\n",
       "      <td>7.930208</td>\n",
       "      <td>busy_professional</td>\n",
       "      <td>Region_Northeast</td>\n",
       "    </tr>\n",
       "    <tr>\n",
       "      <th>151</th>\n",
       "      <td>7.0</td>\n",
       "      <td>709</td>\n",
       "      <td>34.0</td>\n",
       "      <td>7.930208</td>\n",
       "      <td>busy_professional</td>\n",
       "      <td>Region_Northeast</td>\n",
       "    </tr>\n",
       "    <tr>\n",
       "      <th>152</th>\n",
       "      <td>17.0</td>\n",
       "      <td>709</td>\n",
       "      <td>25.0</td>\n",
       "      <td>7.930208</td>\n",
       "      <td>busy_professional</td>\n",
       "      <td>Region_Northeast</td>\n",
       "    </tr>\n",
       "  </tbody>\n",
       "</table>\n",
       "</div>"
      ],
      "text/plain": [
       "     department_id  user_id  add_to_cart_order  mean_prices  \\\n",
       "148           19.0      709               20.0     7.930208   \n",
       "149            7.0      709               33.0     7.930208   \n",
       "150            7.0      709               17.0     7.930208   \n",
       "151            7.0      709               34.0     7.930208   \n",
       "152           17.0      709               25.0     7.930208   \n",
       "\n",
       "    customer_profile_sum            region  \n",
       "148    busy_professional  Region_Northeast  \n",
       "149    busy_professional  Region_Northeast  \n",
       "150    busy_professional  Region_Northeast  \n",
       "151    busy_professional  Region_Northeast  \n",
       "152    busy_professional  Region_Northeast  "
      ]
     },
     "execution_count": 21,
     "metadata": {},
     "output_type": "execute_result"
    }
   ],
   "source": [
    "df_profiles_chart.head()"
   ]
  },
  {
   "cell_type": "code",
   "execution_count": 6,
   "id": "22cac400",
   "metadata": {},
   "outputs": [
    {
     "data": {
      "text/plain": [
       "(24335947, 42)"
      ]
     },
     "execution_count": 6,
     "metadata": {},
     "output_type": "execute_result"
    }
   ],
   "source": [
    "df_profiles.shape"
   ]
  },
  {
   "cell_type": "code",
   "execution_count": 22,
   "id": "e438d6b4",
   "metadata": {},
   "outputs": [
    {
     "data": {
      "text/plain": [
       "(24335947, 6)"
      ]
     },
     "execution_count": 22,
     "metadata": {},
     "output_type": "execute_result"
    }
   ],
   "source": [
    "df_profiles_chart.shape"
   ]
  },
  {
   "cell_type": "code",
   "execution_count": 25,
   "id": "e23a602c",
   "metadata": {},
   "outputs": [
    {
     "data": {
      "image/png": "[encoded data removed]",
      "text/plain": [
       "<Figure size 1000x600 with 1 Axes>"
      ]
     },
     "metadata": {},
     "output_type": "display_data"
    }
   ],
   "source": [
    "# Group by 'region' and 'customer_profile_sum' and count the occurrences\n",
    "grouped_df = df_profiles_chart.groupby(['region', 'customer_profile_sum']).size().unstack(fill_value=0)\n",
    "\n",
    "# Plotting\n",
    "bar2 = grouped_df.plot(kind='bar', stacked=True, figsize=(10, 6))\n",
    "plt.xlabel('Region')\n",
    "plt.ylabel('Number of Customers')\n",
    "plt.title('Number of Customers by Region and Customer Profile')\n",
    "plt.legend(title='Customer Profile', bbox_to_anchor=(1.05, 1), loc='upper left')\n",
    "\n",
    "# Show the plot\n",
    "plt.show()"
   ]
  },
  {
   "cell_type": "code",
   "execution_count": 26,
   "id": "60b23343",
   "metadata": {},
   "outputs": [],
   "source": [
    "# exporting chart\n",
    "bar2.figure.savefig(os.path.join(path, '04 Analysis','Visualizations', 'profiles_by_region.png'))"
   ]
  },
  {
   "cell_type": "markdown",
   "id": "a3f7c9bf",
   "metadata": {},
   "source": [
    "#### 8b Compare your customer profiles with departments."
   ]
  },
  {
   "cell_type": "code",
   "execution_count": 43,
   "id": "20db6cb0",
   "metadata": {},
   "outputs": [],
   "source": [
    "df_dep = df_dep.T"
   ]
  },
  {
   "cell_type": "code",
   "execution_count": 45,
   "id": "c92fb47a",
   "metadata": {},
   "outputs": [
    {
     "data": {
      "text/plain": [
       "RangeIndex(start=0, stop=1, step=1)"
      ]
     },
     "execution_count": 45,
     "metadata": {},
     "output_type": "execute_result"
    }
   ],
   "source": [
    "df_dep.columns"
   ]
  },
  {
   "cell_type": "code",
   "execution_count": 39,
   "id": "81cfa457",
   "metadata": {},
   "outputs": [],
   "source": [
    "# 1) Create a new header\n",
    "new_header = df_dep.iloc[0]\n",
    "\n",
    "# 2) Remove the first row in the dataframe\n",
    "# actually it makes a new df without the first row of the old one\n",
    "df_dep_t_new = df_dep[1:]\n",
    "\n",
    "# 3) Add the new header. \n",
    "df_dep_t_new.columns = new_header"
   ]
  },
  {
   "cell_type": "code",
   "execution_count": 47,
   "id": "5f5a29d8",
   "metadata": {},
   "outputs": [
    {
     "data": {
      "text/html": [
       "<div>\n",
       "<style scoped>\n",
       "    .dataframe tbody tr th:only-of-type {\n",
       "        vertical-align: middle;\n",
       "    }\n",
       "\n",
       "    .dataframe tbody tr th {\n",
       "        vertical-align: top;\n",
       "    }\n",
       "\n",
       "    .dataframe thead th {\n",
       "        text-align: right;\n",
       "    }\n",
       "</style>\n",
       "<table border=\"1\" class=\"dataframe\">\n",
       "  <thead>\n",
       "    <tr style=\"text-align: right;\">\n",
       "      <th>department_id</th>\n",
       "      <th>department</th>\n",
       "    </tr>\n",
       "  </thead>\n",
       "  <tbody>\n",
       "    <tr>\n",
       "      <th>1</th>\n",
       "      <td>frozen</td>\n",
       "    </tr>\n",
       "    <tr>\n",
       "      <th>2</th>\n",
       "      <td>other</td>\n",
       "    </tr>\n",
       "    <tr>\n",
       "      <th>3</th>\n",
       "      <td>bakery</td>\n",
       "    </tr>\n",
       "    <tr>\n",
       "      <th>4</th>\n",
       "      <td>produce</td>\n",
       "    </tr>\n",
       "    <tr>\n",
       "      <th>5</th>\n",
       "      <td>alcohol</td>\n",
       "    </tr>\n",
       "  </tbody>\n",
       "</table>\n",
       "</div>"
      ],
      "text/plain": [
       "department_id department\n",
       "1                 frozen\n",
       "2                  other\n",
       "3                 bakery\n",
       "4                produce\n",
       "5                alcohol"
      ]
     },
     "execution_count": 47,
     "metadata": {},
     "output_type": "execute_result"
    }
   ],
   "source": [
    "df_dep_t_new.head()"
   ]
  },
  {
   "cell_type": "code",
   "execution_count": 78,
   "id": "6d250ff2",
   "metadata": {},
   "outputs": [
    {
     "data": {
      "image/png": "[encoded data removed]",
      "text/plain": [
       "<Figure size 1000x600 with 1 Axes>"
      ]
     },
     "metadata": {},
     "output_type": "display_data"
    }
   ],
   "source": [
    "from matplotlib.ticker import FormatStrFormatter\n",
    "\n",
    "# Group by 'department' and 'customer_profile_sum' and count the occurrences\n",
    "grouped_df = df_profiles_chart.groupby(['department_id', 'customer_profile_sum']).size().unstack(fill_value=0)\n",
    "\n",
    "# Plotting\n",
    "\n",
    "bar3 = grouped_df.plot(kind='bar', stacked=True, figsize=(10, 6))\n",
    "\n",
    "bar3.xaxis.set_major_formatter(FormatStrFormatter('%.0f'))\n",
    "\n",
    "plt.xlabel('Department')\n",
    "plt.ylabel('Number of Customers')\n",
    "plt.title('Orders by Department and Customer Profile')\n",
    "plt.legend(title='Customer Profile', bbox_to_anchor=(1.05, 1), loc='upper left')\n",
    "\n",
    "# Show the plot\n",
    "plt.show()"
   ]
  },
  {
   "cell_type": "code",
   "execution_count": 28,
   "id": "0ec1077a",
   "metadata": {},
   "outputs": [],
   "source": [
    "# exporting chart\n",
    "bar3.figure.savefig(os.path.join(path, '04 Analysis','Visualizations', 'profiles_department.png'))"
   ]
  },
  {
   "cell_type": "code",
   "execution_count": 29,
   "id": "f8dd11de",
   "metadata": {},
   "outputs": [],
   "source": [
    "#export dataframe\n",
    "df_profiles.to_pickle(os.path.join(path, '02 Data','Prepared Data', 'only_profiled_customers.pkl'))"
   ]
  },
  {
   "cell_type": "code",
   "execution_count": 30,
   "id": "cc2fcfb2",
   "metadata": {},
   "outputs": [],
   "source": [
    "#export dataframe\n",
    "df_profiles_chart.to_pickle(os.path.join(path, '02 Data','Prepared Data', 'profiled_to_charts.pkl'))"
   ]
  },
  {
   "cell_type": "code",
   "execution_count": 3,
   "id": "5b092ff6",
   "metadata": {},
   "outputs": [],
   "source": [
    "#import df\n",
    "df_profiles = pd.read_pickle(os.path.join(path, '02 Data','Prepared Data', 'profiled_to_charts.pkl'))"
   ]
  },
  {
   "cell_type": "code",
   "execution_count": 10,
   "id": "16fbbf72",
   "metadata": {},
   "outputs": [
    {
     "data": {
      "image/png": "[encoded data removed]",
      "text/plain": [
       "<Figure size 1000x600 with 1 Axes>"
      ]
     },
     "metadata": {},
     "output_type": "display_data"
    }
   ],
   "source": [
    "# Group by 'department' and 'customer_profile_sum' and count the occurrences\n",
    "grouped4_df = df_profiles.groupby(['add_to_cart_order', 'customer_profile_sum']).size().unstack(fill_value=0)\n",
    "\n",
    "# Plotting\n",
    "bar4 = grouped4_df.plot(kind='hist', bins=70, stacked=True, figsize=(10, 6))\n",
    "plt.xlabel('Orders')\n",
    "plt.ylabel('Number of Customers (logarithmic scale)')\n",
    "plt.yscale('log') \n",
    "plt.title('Number of Customers by Orders and Customer Profile')\n",
    "plt.legend(title='Customer Profile', bbox_to_anchor=(1.05, 1), loc='upper left')\n",
    "\n",
    "# Show the plot\n",
    "plt.show()"
   ]
  },
  {
   "cell_type": "code",
   "execution_count": 11,
   "id": "2b500a99",
   "metadata": {},
   "outputs": [],
   "source": [
    "# exporting chart\n",
    "bar4.figure.savefig(os.path.join(path, '04 Analysis','Visualizations', 'profiles_by_orders.png'))"
   ]
  }
 ],
 "metadata": {
  "kernelspec": {
   "display_name": "Python 3 (ipykernel)",
   "language": "python",
   "name": "python3"
  },
  "language_info": {
   "codemirror_mode": {
    "name": "ipython",
    "version": 3
   },
   "file_extension": ".py",
   "mimetype": "text/x-python",
   "name": "python",
   "nbconvert_exporter": "python",
   "pygments_lexer": "ipython3",
   "version": "3.11.5"
  }
 },
 "nbformat": 4,
 "nbformat_minor": 5
}
