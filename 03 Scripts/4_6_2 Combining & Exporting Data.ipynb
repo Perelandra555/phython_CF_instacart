{
 "cells": [
  {
   "cell_type": "markdown",
   "id": "e943685b",
   "metadata": {},
   "source": [
    "# 01. Importing Libraries"
   ]
  },
  {
   "cell_type": "code",
   "execution_count": 1,
   "id": "0a27f797",
   "metadata": {},
   "outputs": [],
   "source": [
    "#import libraries\n",
    "\n",
    "import pandas as pd\n",
    "\n",
    "import numpy as np\n",
    "\n",
    "import os"
   ]
  },
  {
   "cell_type": "markdown",
   "id": "9fb408c6",
   "metadata": {},
   "source": [
    "# 02. Importing Data"
   ]
  },
  {
   "cell_type": "code",
   "execution_count": 2,
   "id": "b5af39ce",
   "metadata": {},
   "outputs": [],
   "source": [
    "#importing data (orders_products_combined)\n",
    "df_orders_products_combined = pd.read_pickle(r'C:\\Users\\USER\\Documents\\CF\\Phyton\\Instacart Basket Analysis\\02 Data\\Prepared Data\\orders_products_combined.pkl')"
   ]
  },
  {
   "cell_type": "code",
   "execution_count": 3,
   "id": "46659ce8",
   "metadata": {},
   "outputs": [
    {
     "data": {
      "text/plain": [
       "(32434489, 12)"
      ]
     },
     "execution_count": 3,
     "metadata": {},
     "output_type": "execute_result"
    }
   ],
   "source": [
    "# check the shape is the same as df_merged_large --> YES\n",
    "df_orders_products_combined.shape"
   ]
  },
  {
   "cell_type": "code",
   "execution_count": 4,
   "id": "98573393",
   "metadata": {},
   "outputs": [
    {
     "data": {
      "text/html": [
       "<div>\n",
       "<style scoped>\n",
       "    .dataframe tbody tr th:only-of-type {\n",
       "        vertical-align: middle;\n",
       "    }\n",
       "\n",
       "    .dataframe tbody tr th {\n",
       "        vertical-align: top;\n",
       "    }\n",
       "\n",
       "    .dataframe thead th {\n",
       "        text-align: right;\n",
       "    }\n",
       "</style>\n",
       "<table border=\"1\" class=\"dataframe\">\n",
       "  <thead>\n",
       "    <tr style=\"text-align: right;\">\n",
       "      <th></th>\n",
       "      <th>Unnamed: 0</th>\n",
       "      <th>order_id</th>\n",
       "      <th>user_id</th>\n",
       "      <th>eval_set</th>\n",
       "      <th>order_number</th>\n",
       "      <th>order_dow</th>\n",
       "      <th>order_hour_of_day</th>\n",
       "      <th>days_since_prior_order</th>\n",
       "      <th>product_id</th>\n",
       "      <th>add_to_cart_order</th>\n",
       "      <th>reordered</th>\n",
       "      <th>_merge</th>\n",
       "    </tr>\n",
       "  </thead>\n",
       "  <tbody>\n",
       "    <tr>\n",
       "      <th>0</th>\n",
       "      <td>0</td>\n",
       "      <td>2539329</td>\n",
       "      <td>1</td>\n",
       "      <td>prior</td>\n",
       "      <td>1</td>\n",
       "      <td>2</td>\n",
       "      <td>8</td>\n",
       "      <td>NaN</td>\n",
       "      <td>196</td>\n",
       "      <td>1</td>\n",
       "      <td>0</td>\n",
       "      <td>both</td>\n",
       "    </tr>\n",
       "    <tr>\n",
       "      <th>1</th>\n",
       "      <td>0</td>\n",
       "      <td>2539329</td>\n",
       "      <td>1</td>\n",
       "      <td>prior</td>\n",
       "      <td>1</td>\n",
       "      <td>2</td>\n",
       "      <td>8</td>\n",
       "      <td>NaN</td>\n",
       "      <td>14084</td>\n",
       "      <td>2</td>\n",
       "      <td>0</td>\n",
       "      <td>both</td>\n",
       "    </tr>\n",
       "    <tr>\n",
       "      <th>2</th>\n",
       "      <td>0</td>\n",
       "      <td>2539329</td>\n",
       "      <td>1</td>\n",
       "      <td>prior</td>\n",
       "      <td>1</td>\n",
       "      <td>2</td>\n",
       "      <td>8</td>\n",
       "      <td>NaN</td>\n",
       "      <td>12427</td>\n",
       "      <td>3</td>\n",
       "      <td>0</td>\n",
       "      <td>both</td>\n",
       "    </tr>\n",
       "    <tr>\n",
       "      <th>3</th>\n",
       "      <td>0</td>\n",
       "      <td>2539329</td>\n",
       "      <td>1</td>\n",
       "      <td>prior</td>\n",
       "      <td>1</td>\n",
       "      <td>2</td>\n",
       "      <td>8</td>\n",
       "      <td>NaN</td>\n",
       "      <td>26088</td>\n",
       "      <td>4</td>\n",
       "      <td>0</td>\n",
       "      <td>both</td>\n",
       "    </tr>\n",
       "    <tr>\n",
       "      <th>4</th>\n",
       "      <td>0</td>\n",
       "      <td>2539329</td>\n",
       "      <td>1</td>\n",
       "      <td>prior</td>\n",
       "      <td>1</td>\n",
       "      <td>2</td>\n",
       "      <td>8</td>\n",
       "      <td>NaN</td>\n",
       "      <td>26405</td>\n",
       "      <td>5</td>\n",
       "      <td>0</td>\n",
       "      <td>both</td>\n",
       "    </tr>\n",
       "  </tbody>\n",
       "</table>\n",
       "</div>"
      ],
      "text/plain": [
       "   Unnamed: 0  order_id  user_id eval_set  order_number  order_dow  \\\n",
       "0           0   2539329        1    prior             1          2   \n",
       "1           0   2539329        1    prior             1          2   \n",
       "2           0   2539329        1    prior             1          2   \n",
       "3           0   2539329        1    prior             1          2   \n",
       "4           0   2539329        1    prior             1          2   \n",
       "\n",
       "   order_hour_of_day  days_since_prior_order  product_id  add_to_cart_order  \\\n",
       "0                  8                     NaN         196                  1   \n",
       "1                  8                     NaN       14084                  2   \n",
       "2                  8                     NaN       12427                  3   \n",
       "3                  8                     NaN       26088                  4   \n",
       "4                  8                     NaN       26405                  5   \n",
       "\n",
       "   reordered _merge  \n",
       "0          0   both  \n",
       "1          0   both  \n",
       "2          0   both  \n",
       "3          0   both  \n",
       "4          0   both  "
      ]
     },
     "execution_count": 4,
     "metadata": {},
     "output_type": "execute_result"
    }
   ],
   "source": [
    "df_orders_products_combined.head()"
   ]
  },
  {
   "cell_type": "code",
   "execution_count": 5,
   "id": "5d3df51d",
   "metadata": {},
   "outputs": [],
   "source": [
    "#importing data (products)\n",
    "#defining path\n",
    "path = r'C:\\Users\\USER\\Documents\\CF\\Phyton\\Instacart Basket Analysis'\n",
    "df_prods = pd.read_csv(os.path.join(path, '02 Data', 'Prepared Data', 'products_checked.csv'), index_col = False)"
   ]
  },
  {
   "cell_type": "code",
   "execution_count": 6,
   "id": "9fadb0c1",
   "metadata": {},
   "outputs": [
    {
     "data": {
      "text/html": [
       "<div>\n",
       "<style scoped>\n",
       "    .dataframe tbody tr th:only-of-type {\n",
       "        vertical-align: middle;\n",
       "    }\n",
       "\n",
       "    .dataframe tbody tr th {\n",
       "        vertical-align: top;\n",
       "    }\n",
       "\n",
       "    .dataframe thead th {\n",
       "        text-align: right;\n",
       "    }\n",
       "</style>\n",
       "<table border=\"1\" class=\"dataframe\">\n",
       "  <thead>\n",
       "    <tr style=\"text-align: right;\">\n",
       "      <th></th>\n",
       "      <th>Unnamed: 0</th>\n",
       "      <th>product_id</th>\n",
       "      <th>product_name</th>\n",
       "      <th>aisle_id</th>\n",
       "      <th>department_id</th>\n",
       "      <th>prices</th>\n",
       "    </tr>\n",
       "  </thead>\n",
       "  <tbody>\n",
       "    <tr>\n",
       "      <th>0</th>\n",
       "      <td>0</td>\n",
       "      <td>1</td>\n",
       "      <td>Chocolate Sandwich Cookies</td>\n",
       "      <td>61</td>\n",
       "      <td>19</td>\n",
       "      <td>5.8</td>\n",
       "    </tr>\n",
       "    <tr>\n",
       "      <th>1</th>\n",
       "      <td>1</td>\n",
       "      <td>2</td>\n",
       "      <td>All-Seasons Salt</td>\n",
       "      <td>104</td>\n",
       "      <td>13</td>\n",
       "      <td>9.3</td>\n",
       "    </tr>\n",
       "    <tr>\n",
       "      <th>2</th>\n",
       "      <td>2</td>\n",
       "      <td>3</td>\n",
       "      <td>Robust Golden Unsweetened Oolong Tea</td>\n",
       "      <td>94</td>\n",
       "      <td>7</td>\n",
       "      <td>4.5</td>\n",
       "    </tr>\n",
       "    <tr>\n",
       "      <th>3</th>\n",
       "      <td>3</td>\n",
       "      <td>4</td>\n",
       "      <td>Smart Ones Classic Favorites Mini Rigatoni Wit...</td>\n",
       "      <td>38</td>\n",
       "      <td>1</td>\n",
       "      <td>10.5</td>\n",
       "    </tr>\n",
       "    <tr>\n",
       "      <th>4</th>\n",
       "      <td>4</td>\n",
       "      <td>5</td>\n",
       "      <td>Green Chile Anytime Sauce</td>\n",
       "      <td>5</td>\n",
       "      <td>13</td>\n",
       "      <td>4.3</td>\n",
       "    </tr>\n",
       "  </tbody>\n",
       "</table>\n",
       "</div>"
      ],
      "text/plain": [
       "   Unnamed: 0  product_id                                       product_name  \\\n",
       "0           0           1                         Chocolate Sandwich Cookies   \n",
       "1           1           2                                   All-Seasons Salt   \n",
       "2           2           3               Robust Golden Unsweetened Oolong Tea   \n",
       "3           3           4  Smart Ones Classic Favorites Mini Rigatoni Wit...   \n",
       "4           4           5                          Green Chile Anytime Sauce   \n",
       "\n",
       "   aisle_id  department_id  prices  \n",
       "0        61             19     5.8  \n",
       "1       104             13     9.3  \n",
       "2        94              7     4.5  \n",
       "3        38              1    10.5  \n",
       "4         5             13     4.3  "
      ]
     },
     "execution_count": 6,
     "metadata": {},
     "output_type": "execute_result"
    }
   ],
   "source": [
    "df_prods.head()"
   ]
  },
  {
   "cell_type": "markdown",
   "id": "ceebacfc",
   "metadata": {},
   "source": [
    "# 03 Merge"
   ]
  },
  {
   "cell_type": "markdown",
   "id": "200c3b47",
   "metadata": {},
   "source": [
    "### Dealing with MemoryError"
   ]
  },
  {
   "cell_type": "code",
   "execution_count": 7,
   "id": "d9bf2cbb",
   "metadata": {},
   "outputs": [
    {
     "data": {
      "text/plain": [
       "Index(['Unnamed: 0', 'order_id', 'user_id', 'eval_set', 'order_number',\n",
       "       'order_dow', 'order_hour_of_day', 'days_since_prior_order',\n",
       "       'product_id', 'add_to_cart_order', 'reordered', '_merge'],\n",
       "      dtype='object')"
      ]
     },
     "execution_count": 7,
     "metadata": {},
     "output_type": "execute_result"
    }
   ],
   "source": [
    "df_orders_products_combined.columns"
   ]
  },
  {
   "cell_type": "code",
   "execution_count": 8,
   "id": "f318cf0d",
   "metadata": {},
   "outputs": [],
   "source": [
    "df_orders_products_combined.drop(columns = {'eval_set', 'Unnamed: 0', '_merge'}, inplace = True)"
   ]
  },
  {
   "cell_type": "code",
   "execution_count": 9,
   "id": "4ebdb339",
   "metadata": {},
   "outputs": [
    {
     "data": {
      "text/plain": [
       "Index(['order_id', 'user_id', 'order_number', 'order_dow', 'order_hour_of_day',\n",
       "       'days_since_prior_order', 'product_id', 'add_to_cart_order',\n",
       "       'reordered'],\n",
       "      dtype='object')"
      ]
     },
     "execution_count": 9,
     "metadata": {},
     "output_type": "execute_result"
    }
   ],
   "source": [
    "df_orders_products_combined.columns"
   ]
  },
  {
   "cell_type": "code",
   "execution_count": 10,
   "id": "d239ae85",
   "metadata": {},
   "outputs": [],
   "source": [
    "df_orders_products_combined.rename(columns = {'order_dow':'orders_day_of_week', 'order_hour_of_day':'order_time_of_day'}, inplace = True)"
   ]
  },
  {
   "cell_type": "code",
   "execution_count": 11,
   "id": "50a59e17",
   "metadata": {},
   "outputs": [
    {
     "data": {
      "text/plain": [
       "Index(['order_id', 'user_id', 'order_number', 'orders_day_of_week',\n",
       "       'order_time_of_day', 'days_since_prior_order', 'product_id',\n",
       "       'add_to_cart_order', 'reordered'],\n",
       "      dtype='object')"
      ]
     },
     "execution_count": 11,
     "metadata": {},
     "output_type": "execute_result"
    }
   ],
   "source": [
    "df_orders_products_combined.columns"
   ]
  },
  {
   "cell_type": "code",
   "execution_count": 12,
   "id": "db1c5e89",
   "metadata": {},
   "outputs": [],
   "source": [
    "# Change types for df_orders_products_combined data set\n",
    "\n",
    "df_orders_products_combined['order_id']=df_orders_products_combined['order_id'].astype('int32')\n",
    "df_orders_products_combined['user_id'] = df_orders_products_combined['user_id'].astype('int32')\n",
    "df_orders_products_combined['order_number']=df_orders_products_combined['order_number'].astype('int8')\n",
    "df_orders_products_combined['orders_day_of_week']=df_orders_products_combined['orders_day_of_week'].astype('int8')\n",
    "df_orders_products_combined['order_time_of_day']=df_orders_products_combined['order_time_of_day'].astype('int8')\n",
    "df_orders_products_combined['days_since_prior_order']=df_orders_products_combined['days_since_prior_order'].astype('float16')\n"
   ]
  },
  {
   "cell_type": "code",
   "execution_count": 13,
   "id": "4e50627a",
   "metadata": {},
   "outputs": [
    {
     "name": "stdout",
     "output_type": "stream",
     "text": [
      "<class 'pandas.core.frame.DataFrame'>\n",
      "RangeIndex: 32434489 entries, 0 to 32434488\n",
      "Data columns (total 9 columns):\n",
      " #   Column                  Dtype  \n",
      "---  ------                  -----  \n",
      " 0   order_id                int32  \n",
      " 1   user_id                 int32  \n",
      " 2   order_number            int8   \n",
      " 3   orders_day_of_week      int8   \n",
      " 4   order_time_of_day       int8   \n",
      " 5   days_since_prior_order  float16\n",
      " 6   product_id              int64  \n",
      " 7   add_to_cart_order       int64  \n",
      " 8   reordered               int64  \n",
      "dtypes: float16(1), int32(2), int64(3), int8(3)\n",
      "memory usage: 1.1 GB\n"
     ]
    }
   ],
   "source": [
    "# Check output to see memory usage\n",
    "\n",
    "df_orders_products_combined.info()"
   ]
  },
  {
   "cell_type": "code",
   "execution_count": 14,
   "id": "96a4e1e3",
   "metadata": {},
   "outputs": [],
   "source": [
    "df_orders_products_combined['product_id'] =df_orders_products_combined['product_id'].astype('int32')\n",
    "df_orders_products_combined['reordered']=df_orders_products_combined['reordered'].astype('int8')\n",
    "df_orders_products_combined['add_to_cart_order']=df_orders_products_combined['add_to_cart_order'].astype('int32')"
   ]
  },
  {
   "cell_type": "code",
   "execution_count": 15,
   "id": "1fdb5176",
   "metadata": {},
   "outputs": [
    {
     "name": "stdout",
     "output_type": "stream",
     "text": [
      "<class 'pandas.core.frame.DataFrame'>\n",
      "RangeIndex: 32434489 entries, 0 to 32434488\n",
      "Data columns (total 9 columns):\n",
      " #   Column                  Dtype  \n",
      "---  ------                  -----  \n",
      " 0   order_id                int32  \n",
      " 1   user_id                 int32  \n",
      " 2   order_number            int8   \n",
      " 3   orders_day_of_week      int8   \n",
      " 4   order_time_of_day       int8   \n",
      " 5   days_since_prior_order  float16\n",
      " 6   product_id              int32  \n",
      " 7   add_to_cart_order       int32  \n",
      " 8   reordered               int8   \n",
      "dtypes: float16(1), int32(4), int8(4)\n",
      "memory usage: 680.5 MB\n"
     ]
    }
   ],
   "source": [
    "# Check output to see memory usage\n",
    "\n",
    "df_orders_products_combined.info()"
   ]
  },
  {
   "cell_type": "markdown",
   "id": "c6c90615",
   "metadata": {},
   "source": [
    " Further columns from other data sets\n",
    "\n",
    "df['aisle_id'] = df['aisle_id'].astype('int8')\n",
    "df['department_id'] = df['department_id'].astype('int8')\n",
    "df['prices'] = df['prices'].astype('float16')\n",
    "df['age'] = df['age'].astype('int8')\n",
    "df['n_dependants'] = df['n_dependants'].astype('int8')\n",
    "df['income'] = df['income'].astype('int8')"
   ]
  },
  {
   "cell_type": "code",
   "execution_count": 26,
   "id": "14d3fa85",
   "metadata": {},
   "outputs": [
    {
     "name": "stdout",
     "output_type": "stream",
     "text": [
      "<class 'pandas.core.frame.DataFrame'>\n",
      "RangeIndex: 49672 entries, 0 to 49671\n",
      "Data columns (total 6 columns):\n",
      " #   Column         Non-Null Count  Dtype  \n",
      "---  ------         --------------  -----  \n",
      " 0   Unnamed: 0     49672 non-null  int64  \n",
      " 1   product_id     49672 non-null  int64  \n",
      " 2   product_name   49672 non-null  object \n",
      " 3   aisle_id       49672 non-null  int64  \n",
      " 4   department_id  49672 non-null  int64  \n",
      " 5   prices         49672 non-null  float64\n",
      "dtypes: float64(1), int64(4), object(1)\n",
      "memory usage: 2.3+ MB\n"
     ]
    }
   ],
   "source": [
    "df_prods.info()"
   ]
  },
  {
   "cell_type": "code",
   "execution_count": 35,
   "id": "405a6c73",
   "metadata": {},
   "outputs": [],
   "source": [
    "#drop coulmn what don't needed\n",
    "\n",
    "df_prods.drop(columns = {'Unnamed: 0'}, inplace = True)"
   ]
  },
  {
   "cell_type": "code",
   "execution_count": null,
   "id": "3f06b782",
   "metadata": {},
   "outputs": [],
   "source": [
    "df_prods['product_id'] =df_prods['product_id'].astype('int32')\n",
    "df_prods['aisle_id'] = df_prods['aisle_id'].astype('int8')\n",
    "df_prods['department_id'] = df_prods['department_id'].astype('int8')\n",
    "df_prods['prices'] = df_prods['prices'].astype('float16')"
   ]
  },
  {
   "cell_type": "code",
   "execution_count": 37,
   "id": "e46d7dae",
   "metadata": {},
   "outputs": [],
   "source": [
    "df_prods['product_id'] =df_prods['product_id'].astype('int32')"
   ]
  },
  {
   "cell_type": "code",
   "execution_count": 38,
   "id": "e00bda66",
   "metadata": {},
   "outputs": [],
   "source": [
    "df_prods['aisle_id'] = df_prods['aisle_id'].astype('int8')"
   ]
  },
  {
   "cell_type": "code",
   "execution_count": 39,
   "id": "dbccda44",
   "metadata": {},
   "outputs": [],
   "source": [
    "df_prods['department_id'] = df_prods['department_id'].astype('int8')"
   ]
  },
  {
   "cell_type": "code",
   "execution_count": 40,
   "id": "544aad12",
   "metadata": {},
   "outputs": [],
   "source": [
    "df_prods['prices'] = df_prods['prices'].astype('float16')"
   ]
  },
  {
   "cell_type": "code",
   "execution_count": 41,
   "id": "77e405cc",
   "metadata": {},
   "outputs": [
    {
     "name": "stdout",
     "output_type": "stream",
     "text": [
      "<class 'pandas.core.frame.DataFrame'>\n",
      "RangeIndex: 49672 entries, 0 to 49671\n",
      "Data columns (total 5 columns):\n",
      " #   Column         Non-Null Count  Dtype  \n",
      "---  ------         --------------  -----  \n",
      " 0   product_id     49672 non-null  int32  \n",
      " 1   product_name   49672 non-null  object \n",
      " 2   aisle_id       49672 non-null  int8   \n",
      " 3   department_id  49672 non-null  int8   \n",
      " 4   prices         49672 non-null  float16\n",
      "dtypes: float16(1), int32(1), int8(2), object(1)\n",
      "memory usage: 776.3+ KB\n"
     ]
    }
   ],
   "source": [
    "df_prods.info()"
   ]
  },
  {
   "cell_type": "code",
   "execution_count": 16,
   "id": "3cb22c75",
   "metadata": {},
   "outputs": [],
   "source": [
    "# Attemp a merge\n",
    "\n",
    "#Example: ords_prods_merged = ords.merge(ords_prods, on = ['order_id'], how = 'outer', indicator = True)\n",
    "\n",
    "# merge df_orders_products_combined and df_prods --> df_orders_products_merged\n",
    "df_orders_products_merged = df_prods.merge(df_orders_products_combined, on = ['product_id'],  how = 'outer', indicator = True)"
   ]
  },
  {
   "cell_type": "code",
   "execution_count": 18,
   "id": "72f9a0c7",
   "metadata": {},
   "outputs": [
    {
     "data": {
      "text/plain": [
       "_merge\n",
       "both          32404859\n",
       "right_only       30200\n",
       "left_only           11\n",
       "Name: count, dtype: int64"
      ]
     },
     "execution_count": 18,
     "metadata": {},
     "output_type": "execute_result"
    }
   ],
   "source": [
    "#Confirm the results of the merge using the merge flag.\n",
    "df_orders_products_merged['_merge'].value_counts()"
   ]
  },
  {
   "cell_type": "code",
   "execution_count": 19,
   "id": "9a2a2121",
   "metadata": {},
   "outputs": [
    {
     "data": {
      "text/plain": [
       "(32435070, 15)"
      ]
     },
     "execution_count": 19,
     "metadata": {},
     "output_type": "execute_result"
    }
   ],
   "source": [
    "df_orders_products_merged.shape"
   ]
  },
  {
   "cell_type": "markdown",
   "id": "1524554c",
   "metadata": {},
   "source": [
    "# Export pickle"
   ]
  },
  {
   "cell_type": "code",
   "execution_count": 17,
   "id": "d6cba80f",
   "metadata": {},
   "outputs": [],
   "source": [
    "df_orders_products_merged.to_pickle(os.path.join(path, '02 Data','Prepared Data', 'orders_products_merged.pkl'))"
   ]
  }
 ],
 "metadata": {
  "kernelspec": {
   "display_name": "Python 3 (ipykernel)",
   "language": "python",
   "name": "python3"
  },
  "language_info": {
   "codemirror_mode": {
    "name": "ipython",
    "version": 3
   },
   "file_extension": ".py",
   "mimetype": "text/x-python",
   "name": "python",
   "nbconvert_exporter": "python",
   "pygments_lexer": "ipython3",
   "version": "3.11.5"
  },
  "varInspector": {
   "cols": {
    "lenName": 16,
    "lenType": 16,
    "lenVar": 40
   },
   "kernels_config": {
    "python": {
     "delete_cmd_postfix": "",
     "delete_cmd_prefix": "del ",
     "library": "var_list.py",
     "varRefreshCmd": "print(var_dic_list())"
    },
    "r": {
     "delete_cmd_postfix": ") ",
     "delete_cmd_prefix": "rm(",
     "library": "var_list.r",
     "varRefreshCmd": "cat(var_dic_list()) "
    }
   },
   "types_to_exclude": [
    "module",
    "function",
    "builtin_function_or_method",
    "instance",
    "_Feature"
   ],
   "window_display": false
  }
 },
 "nbformat": 4,
 "nbformat_minor": 5
}
