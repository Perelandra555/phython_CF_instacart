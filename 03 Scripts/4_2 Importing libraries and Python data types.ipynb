{
 "cells": [
  {
   "cell_type": "markdown",
   "id": "20b07a23",
   "metadata": {},
   "source": [
    "Ez nem kód mert nincs előtte In, és ezt az M betűvel csináltam"
   ]
  },
  {
   "cell_type": "markdown",
   "id": "2b247947",
   "metadata": {},
   "source": [
    "# 01. Importing libraries"
   ]
  },
  {
   "cell_type": "code",
   "execution_count": 1,
   "id": "c60a2137",
   "metadata": {},
   "outputs": [],
   "source": [
    "# import libraries\n",
    "import pandas as pd\n",
    "import numpy as np\n",
    "import os"
   ]
  },
  {
   "cell_type": "code",
   "execution_count": 2,
   "id": "a67a22a8",
   "metadata": {},
   "outputs": [],
   "source": [
    "x=2"
   ]
  },
  {
   "cell_type": "code",
   "execution_count": 3,
   "id": "d33aa109",
   "metadata": {},
   "outputs": [
    {
     "data": {
      "text/plain": [
       "2"
      ]
     },
     "execution_count": 3,
     "metadata": {},
     "output_type": "execute_result"
    }
   ],
   "source": [
    "x"
   ]
  },
  {
   "cell_type": "code",
   "execution_count": 4,
   "id": "9b7efc3a",
   "metadata": {},
   "outputs": [
    {
     "name": "stdout",
     "output_type": "stream",
     "text": [
      "2\n"
     ]
    }
   ],
   "source": [
    "print (x)"
   ]
  },
  {
   "cell_type": "code",
   "execution_count": 5,
   "id": "698de82c",
   "metadata": {},
   "outputs": [
    {
     "data": {
      "text/plain": [
       "int"
      ]
     },
     "execution_count": 5,
     "metadata": {},
     "output_type": "execute_result"
    }
   ],
   "source": [
    "type (x)"
   ]
  },
  {
   "cell_type": "markdown",
   "id": "26ec61e3",
   "metadata": {},
   "source": [
    "## Python data types"
   ]
  },
  {
   "cell_type": "code",
   "execution_count": null,
   "id": "26dd9776",
   "metadata": {},
   "outputs": [],
   "source": []
  },
  {
   "cell_type": "code",
   "execution_count": 7,
   "id": "b247d173",
   "metadata": {},
   "outputs": [],
   "source": [
    "y=20"
   ]
  },
  {
   "cell_type": "code",
   "execution_count": 8,
   "id": "27188838",
   "metadata": {},
   "outputs": [],
   "source": [
    "z=80"
   ]
  },
  {
   "cell_type": "code",
   "execution_count": 9,
   "id": "ff9b5a15",
   "metadata": {},
   "outputs": [
    {
     "data": {
      "text/plain": [
       "100"
      ]
     },
     "execution_count": 9,
     "metadata": {},
     "output_type": "execute_result"
    }
   ],
   "source": [
    "y+z"
   ]
  },
  {
   "cell_type": "code",
   "execution_count": 10,
   "id": "11875ca6",
   "metadata": {},
   "outputs": [
    {
     "data": {
      "text/plain": [
       "100"
      ]
     },
     "execution_count": 10,
     "metadata": {},
     "output_type": "execute_result"
    }
   ],
   "source": [
    "z+z-y-y-y"
   ]
  },
  {
   "cell_type": "code",
   "execution_count": 11,
   "id": "f3e9b9c7",
   "metadata": {},
   "outputs": [
    {
     "data": {
      "text/plain": [
       "100"
      ]
     },
     "execution_count": 11,
     "metadata": {},
     "output_type": "execute_result"
    }
   ],
   "source": [
    "z+y+y-y"
   ]
  },
  {
   "cell_type": "code",
   "execution_count": 12,
   "id": "478b036a",
   "metadata": {},
   "outputs": [],
   "source": [
    "a=3.14"
   ]
  },
  {
   "cell_type": "code",
   "execution_count": 13,
   "id": "98743f66",
   "metadata": {},
   "outputs": [],
   "source": [
    "b=5.3678"
   ]
  },
  {
   "cell_type": "code",
   "execution_count": 14,
   "id": "5484f4da",
   "metadata": {},
   "outputs": [
    {
     "data": {
      "text/plain": [
       "0.5849696337419428"
      ]
     },
     "execution_count": 14,
     "metadata": {},
     "output_type": "execute_result"
    }
   ],
   "source": [
    "a/b"
   ]
  },
  {
   "cell_type": "code",
   "execution_count": 15,
   "id": "0f3a5124",
   "metadata": {},
   "outputs": [],
   "source": [
    "c='a'"
   ]
  },
  {
   "cell_type": "code",
   "execution_count": 16,
   "id": "8f179a41",
   "metadata": {},
   "outputs": [],
   "source": [
    "d='n'"
   ]
  },
  {
   "cell_type": "code",
   "execution_count": 17,
   "id": "ebdcd4fe",
   "metadata": {},
   "outputs": [
    {
     "data": {
      "text/plain": [
       "'anna'"
      ]
     },
     "execution_count": 17,
     "metadata": {},
     "output_type": "execute_result"
    }
   ],
   "source": [
    "c+d+d+c"
   ]
  },
  {
   "cell_type": "code",
   "execution_count": 18,
   "id": "1ce5bdf9",
   "metadata": {},
   "outputs": [],
   "source": [
    "e='Anna '"
   ]
  },
  {
   "cell_type": "code",
   "execution_count": 20,
   "id": "47a188d4",
   "metadata": {},
   "outputs": [],
   "source": [
    "f='szép, '"
   ]
  },
  {
   "cell_type": "code",
   "execution_count": 23,
   "id": "c7bdc18b",
   "metadata": {},
   "outputs": [],
   "source": [
    "g='okos '"
   ]
  },
  {
   "cell_type": "code",
   "execution_count": 22,
   "id": "5e5ae258",
   "metadata": {},
   "outputs": [
    {
     "data": {
      "text/plain": [
       "'Anna szép, okos'"
      ]
     },
     "execution_count": 22,
     "metadata": {},
     "output_type": "execute_result"
    }
   ],
   "source": [
    "e+f+g"
   ]
  },
  {
   "cell_type": "code",
   "execution_count": 24,
   "id": "a0d94e94",
   "metadata": {},
   "outputs": [
    {
     "data": {
      "text/plain": [
       "'szép, okos Anna '"
      ]
     },
     "execution_count": 24,
     "metadata": {},
     "output_type": "execute_result"
    }
   ],
   "source": [
    "f+g+e"
   ]
  },
  {
   "cell_type": "code",
   "execution_count": null,
   "id": "3dad6c84",
   "metadata": {},
   "outputs": [],
   "source": []
  },
  {
   "cell_type": "code",
   "execution_count": null,
   "id": "be3427a9",
   "metadata": {},
   "outputs": [],
   "source": []
  },
  {
   "cell_type": "markdown",
   "id": "29b9d897",
   "metadata": {},
   "source": []
  },
  {
   "cell_type": "code",
   "execution_count": null,
   "id": "913922f2",
   "metadata": {},
   "outputs": [],
   "source": []
  },
  {
   "cell_type": "code",
   "execution_count": null,
   "id": "f5f97955",
   "metadata": {},
   "outputs": [],
   "source": []
  },
  {
   "cell_type": "code",
   "execution_count": null,
   "id": "874c6405",
   "metadata": {},
   "outputs": [],
   "source": []
  }
 ],
 "metadata": {
  "kernelspec": {
   "display_name": "Python 3 (ipykernel)",
   "language": "python",
   "name": "python3"
  },
  "language_info": {
   "codemirror_mode": {
    "name": "ipython",
    "version": 3
   },
   "file_extension": ".py",
   "mimetype": "text/x-python",
   "name": "python",
   "nbconvert_exporter": "python",
   "pygments_lexer": "ipython3",
   "version": "3.11.5"
  }
 },
 "nbformat": 4,
 "nbformat_minor": 5
}
